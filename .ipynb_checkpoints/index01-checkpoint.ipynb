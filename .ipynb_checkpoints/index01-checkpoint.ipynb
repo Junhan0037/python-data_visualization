{
 "cells": [
  {
   "cell_type": "code",
   "execution_count": 1,
   "metadata": {},
   "outputs": [],
   "source": [
    "\"\"\"\n",
    "Step 1. Read Files \n",
    "\"\"\"\n",
    "# Import pandas as a alias 'pd'\n",
    "import pandas as pd\n",
    "\n",
    "# Load the CSV files \"marathon_results_2015 ~ 2017.csv\" under \"data\" folder\n",
    "marathon_2015 = pd.read_csv(\"./data/marathon_results_2015.csv\")\n",
    "marathon_2016 = pd.read_csv(\"./data/marathon_results_2016.csv\")\n",
    "marathon_2017 = pd.read_csv(\"./data/marathon_results_2017.csv\")"
   ]
  },
  {
   "cell_type": "code",
   "execution_count": 2,
   "metadata": {},
   "outputs": [],
   "source": [
    "\"\"\"\n",
    "Step 2. Add Year column \n",
    "\"\"\"\n",
    "# Add Year column to the CSV files \"marathon_results_2015 ~ 2017.csv\"\n",
    "marathon_2015['Year'] = '2015'\n",
    "marathon_2016['Year'] = '2016'\n",
    "marathon_2017['Year'] = '2017'"
   ]
  },
  {
   "cell_type": "code",
   "execution_count": 3,
   "metadata": {},
   "outputs": [],
   "source": [
    "\"\"\"\n",
    "Step 3. Merge Files\n",
    "\"\"\"\n",
    "# Merge 2015, 2016 and 2017 files into marathon_2015_2017 file index by Age\n",
    "marathon_2015_2017 = pd.concat([marathon_2015, marathon_2016, marathon_2017], ignore_index=True, sort=False)"
   ]
  },
  {
   "cell_type": "code",
   "execution_count": 4,
   "metadata": {},
   "outputs": [],
   "source": [
    "\"\"\"\n",
    "Step 4. Drop columns\n",
    "\"\"\"\n",
    "#Drop unnecessary columns \n",
    "marathon_2015_2017 = marathon_2015_2017.drop(['Unnamed: 0','Bib', 'Citizen', 'Unnamed: 9', 'Proj Time', 'Unnamed: 8'], axis='columns')"
   ]
  },
  {
   "cell_type": "code",
   "execution_count": 5,
   "metadata": {},
   "outputs": [],
   "source": [
    "\"\"\"\n",
    "Step 5. Convert columns value\n",
    "\"\"\"\n",
    "# Import Numpy Library and call it as np\n",
    "import numpy as np\n",
    "\n",
    "# Convert using pandas to_timedelta method\n",
    "marathon_2015_2017['5K'] = pd.to_timedelta(marathon_2015_2017['5K'])\n",
    "marathon_2015_2017['10K'] = pd.to_timedelta(marathon_2015_2017['10K'])\n",
    "marathon_2015_2017['15K'] = pd.to_timedelta(marathon_2015_2017['15K'])\n",
    "marathon_2015_2017['20K'] = pd.to_timedelta(marathon_2015_2017['20K'])\n",
    "marathon_2015_2017['Half'] = pd.to_timedelta(marathon_2015_2017['Half'])\n",
    "marathon_2015_2017['25K'] = pd.to_timedelta(marathon_2015_2017['25K'])\n",
    "marathon_2015_2017['30K'] = pd.to_timedelta(marathon_2015_2017['30K'])\n",
    "marathon_2015_2017['35K'] = pd.to_timedelta(marathon_2015_2017['35K'])\n",
    "marathon_2015_2017['40K'] = pd.to_timedelta(marathon_2015_2017['40K'])\n",
    "marathon_2015_2017['Pace'] = pd.to_timedelta(marathon_2015_2017['Pace'])\n",
    "marathon_2015_2017['Official Time'] = pd.to_timedelta(marathon_2015_2017['Official Time'])\n",
    "\n",
    "# Convert time to seconds value using astype method\n",
    "marathon_2015_2017['5K'] = marathon_2015_2017['5K'].astype('m8[s]').astype(np.int64)\n",
    "marathon_2015_2017['10K'] = marathon_2015_2017['10K'].astype('m8[s]').astype(np.int64)\n",
    "marathon_2015_2017['15K'] = marathon_2015_2017['15K'].astype('m8[s]').astype(np.int64)\n",
    "marathon_2015_2017['20K'] = marathon_2015_2017['20K'].astype('m8[s]').astype(np.int64)\n",
    "marathon_2015_2017['Half'] = marathon_2015_2017['Half'].astype('m8[s]').astype(np.int64)\n",
    "marathon_2015_2017['25K'] = marathon_2015_2017['25K'].astype('m8[s]').astype(np.int64)\n",
    "marathon_2015_2017['30K'] = marathon_2015_2017['30K'].astype('m8[s]').astype(np.int64)\n",
    "marathon_2015_2017['35K'] = marathon_2015_2017['35K'].astype('m8[s]').astype(np.int64)\n",
    "marathon_2015_2017['40K'] = marathon_2015_2017['40K'].astype('m8[s]').astype(np.int64)\n",
    "marathon_2015_2017['Pace'] = marathon_2015_2017['Pace'].astype('m8[s]').astype(np.int64)\n",
    "marathon_2015_2017['Official Time'] = marathon_2015_2017['Official Time'].astype('m8[s]').astype(np.int64)"
   ]
  },
  {
   "cell_type": "code",
   "execution_count": 6,
   "metadata": {},
   "outputs": [],
   "source": [
    "\"\"\"\n",
    "Step 6. Save file\n",
    "\"\"\"\n",
    "# Save to CSV file \"marathon_2015_2017.csv\"\n",
    "marathon_2015_2017.to_csv(\"./data/marathon_2015_2017.csv\", index = None, header=True)"
   ]
  },
  {
   "cell_type": "code",
   "execution_count": null,
   "metadata": {},
   "outputs": [],
   "source": []
  }
 ],
 "metadata": {
  "kernelspec": {
   "display_name": "Python 3",
   "language": "python",
   "name": "python3"
  },
  "language_info": {
   "codemirror_mode": {
    "name": "ipython",
    "version": 3
   },
   "file_extension": ".py",
   "mimetype": "text/x-python",
   "name": "python",
   "nbconvert_exporter": "python",
   "pygments_lexer": "ipython3",
   "version": "3.7.4"
  }
 },
 "nbformat": 4,
 "nbformat_minor": 2
}
